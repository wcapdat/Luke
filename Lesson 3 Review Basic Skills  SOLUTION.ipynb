{
 "cells": [
  {
   "cell_type": "markdown",
   "metadata": {},
   "source": [
    "<h3>1. Defining a Simple Function</h3>\n",
    "Example 1a) Define a function to compute the area of a rectangle with width W and length L. "
   ]
  },
  {
   "cell_type": "code",
   "execution_count": 1,
   "metadata": {},
   "outputs": [],
   "source": [
    "def area_rectangle(W,L):\n",
    "    A=W*L\n",
    "    return A"
   ]
  },
  {
   "cell_type": "markdown",
   "metadata": {},
   "source": [
    "Example 1b) Check the function can be used to find the area A of a rectangle with width 5 and length 10."
   ]
  },
  {
   "cell_type": "code",
   "execution_count": 2,
   "metadata": {},
   "outputs": [
    {
     "data": {
      "text/plain": [
       "50"
      ]
     },
     "execution_count": 2,
     "metadata": {},
     "output_type": "execute_result"
    }
   ],
   "source": [
    "area_rectangle(5,10)"
   ]
  },
  {
   "cell_type": "markdown",
   "metadata": {},
   "source": [
    "<h4> PROBLEM ONE: </h4>\n",
    "\n",
    "Problem 1a) Define a function caled area_triangle which takes inputs base B and height H and returns the area A of the triangle.  "
   ]
  },
  {
   "cell_type": "code",
   "execution_count": 3,
   "metadata": {},
   "outputs": [],
   "source": [
    "def area_triangle(B,H):\n",
    "    A=.5*B*H\n",
    "    return A"
   ]
  },
  {
   "cell_type": "markdown",
   "metadata": {},
   "source": [
    "Problem 1b)  Check that your function works  on a triangle with base 10 and height 4."
   ]
  },
  {
   "cell_type": "code",
   "execution_count": 4,
   "metadata": {},
   "outputs": [
    {
     "data": {
      "text/plain": [
       "20.0"
      ]
     },
     "execution_count": 4,
     "metadata": {},
     "output_type": "execute_result"
    }
   ],
   "source": [
    "area_triangle(10,4)"
   ]
  },
  {
   "cell_type": "markdown",
   "metadata": {},
   "source": [
    "<h3> 2. Importing Data from the Chicago Data Portal</h3>\n",
    "\n",
    "Example 2a) Public art data can be imported using the URL https://data.cityofchicago.org/resource/sj6t-9cju.json\n",
    "\n",
    " Import public art data from the data portal into a dataframe ART "
   ]
  },
  {
   "cell_type": "code",
   "execution_count": 5,
   "metadata": {},
   "outputs": [],
   "source": [
    "import pandas as pd\n",
    "ART = pd.read_json('https://data.cityofchicago.org/resource/sj6t-9cju.json?$limit=100000') #Import data directly from data portal"
   ]
  },
  {
   "cell_type": "markdown",
   "metadata": {},
   "source": [
    "Example 2b) uses the shape command to display the number of rows and columns. "
   ]
  },
  {
   "cell_type": "code",
   "execution_count": 6,
   "metadata": {},
   "outputs": [
    {
     "data": {
      "text/plain": [
       "(194, 16)"
      ]
     },
     "execution_count": 6,
     "metadata": {},
     "output_type": "execute_result"
    }
   ],
   "source": [
    "ART.shape"
   ]
  },
  {
   "cell_type": "markdown",
   "metadata": {},
   "source": [
    "Example 2c) Display the names of the columns"
   ]
  },
  {
   "cell_type": "code",
   "execution_count": 7,
   "metadata": {},
   "outputs": [
    {
     "data": {
      "text/plain": [
       "Index([':@computed_region_43wa_7qmu', ':@computed_region_6mkv_f3dw',\n",
       "       ':@computed_region_awaf_s7ux', ':@computed_region_bdys_3d7i',\n",
       "       ':@computed_region_rpca_8um6', ':@computed_region_vrxf_vc4k', 'art',\n",
       "       'artist', 'latitude', 'location', 'longitude', 'owner', 'park_name',\n",
       "       'park_number', 'x_coordinate', 'y_coordinate'],\n",
       "      dtype='object')"
      ]
     },
     "execution_count": 7,
     "metadata": {},
     "output_type": "execute_result"
    }
   ],
   "source": [
    "ART.columns"
   ]
  },
  {
   "cell_type": "markdown",
   "metadata": {},
   "source": [
    "Example 2d) Display the first two rows of data"
   ]
  },
  {
   "cell_type": "code",
   "execution_count": 8,
   "metadata": {},
   "outputs": [
    {
     "data": {
      "text/html": [
       "<div>\n",
       "<style scoped>\n",
       "    .dataframe tbody tr th:only-of-type {\n",
       "        vertical-align: middle;\n",
       "    }\n",
       "\n",
       "    .dataframe tbody tr th {\n",
       "        vertical-align: top;\n",
       "    }\n",
       "\n",
       "    .dataframe thead th {\n",
       "        text-align: right;\n",
       "    }\n",
       "</style>\n",
       "<table border=\"1\" class=\"dataframe\">\n",
       "  <thead>\n",
       "    <tr style=\"text-align: right;\">\n",
       "      <th></th>\n",
       "      <th>:@computed_region_43wa_7qmu</th>\n",
       "      <th>:@computed_region_6mkv_f3dw</th>\n",
       "      <th>:@computed_region_awaf_s7ux</th>\n",
       "      <th>:@computed_region_bdys_3d7i</th>\n",
       "      <th>:@computed_region_rpca_8um6</th>\n",
       "      <th>:@computed_region_vrxf_vc4k</th>\n",
       "      <th>art</th>\n",
       "      <th>artist</th>\n",
       "      <th>latitude</th>\n",
       "      <th>location</th>\n",
       "      <th>longitude</th>\n",
       "      <th>owner</th>\n",
       "      <th>park_name</th>\n",
       "      <th>park_number</th>\n",
       "      <th>x_coordinate</th>\n",
       "      <th>y_coordinate</th>\n",
       "    </tr>\n",
       "  </thead>\n",
       "  <tbody>\n",
       "    <tr>\n",
       "      <th>0</th>\n",
       "      <td>49</td>\n",
       "      <td>22535</td>\n",
       "      <td>10</td>\n",
       "      <td>301</td>\n",
       "      <td>4</td>\n",
       "      <td>25</td>\n",
       "      <td>Interpreting Nature</td>\n",
       "      <td>Roman Villareal</td>\n",
       "      <td>41.906255</td>\n",
       "      <td>{'latitude': '41.906255', 'longitude': '-87.69...</td>\n",
       "      <td>-87.69942</td>\n",
       "      <td>CPD</td>\n",
       "      <td>HUMBOLDT (BARON VON)</td>\n",
       "      <td>219</td>\n",
       "      <td>1.156809e+06</td>\n",
       "      <td>1.909067e+06</td>\n",
       "    </tr>\n",
       "    <tr>\n",
       "      <th>1</th>\n",
       "      <td>16</td>\n",
       "      <td>4451</td>\n",
       "      <td>40</td>\n",
       "      <td>539</td>\n",
       "      <td>14</td>\n",
       "      <td>76</td>\n",
       "      <td>The Young Lincoln</td>\n",
       "      <td>Charles Keck</td>\n",
       "      <td>41.989775</td>\n",
       "      <td>{'latitude': '41.989775', 'longitude': '-87.66...</td>\n",
       "      <td>-87.66944</td>\n",
       "      <td>CPD</td>\n",
       "      <td>SENN (NICHOLAS)</td>\n",
       "      <td>227</td>\n",
       "      <td>1.164734e+06</td>\n",
       "      <td>1.939563e+06</td>\n",
       "    </tr>\n",
       "  </tbody>\n",
       "</table>\n",
       "</div>"
      ],
      "text/plain": [
       "   :@computed_region_43wa_7qmu  :@computed_region_6mkv_f3dw  \\\n",
       "0                           49                        22535   \n",
       "1                           16                         4451   \n",
       "\n",
       "   :@computed_region_awaf_s7ux  :@computed_region_bdys_3d7i  \\\n",
       "0                           10                          301   \n",
       "1                           40                          539   \n",
       "\n",
       "   :@computed_region_rpca_8um6  :@computed_region_vrxf_vc4k  \\\n",
       "0                            4                           25   \n",
       "1                           14                           76   \n",
       "\n",
       "                   art           artist   latitude  \\\n",
       "0  Interpreting Nature  Roman Villareal  41.906255   \n",
       "1    The Young Lincoln     Charles Keck  41.989775   \n",
       "\n",
       "                                            location  longitude owner  \\\n",
       "0  {'latitude': '41.906255', 'longitude': '-87.69...  -87.69942   CPD   \n",
       "1  {'latitude': '41.989775', 'longitude': '-87.66...  -87.66944   CPD   \n",
       "\n",
       "              park_name  park_number  x_coordinate  y_coordinate  \n",
       "0  HUMBOLDT (BARON VON)          219  1.156809e+06  1.909067e+06  \n",
       "1       SENN (NICHOLAS)          227  1.164734e+06  1.939563e+06  "
      ]
     },
     "execution_count": 8,
     "metadata": {},
     "output_type": "execute_result"
    }
   ],
   "source": [
    "ART.head(2)"
   ]
  },
  {
   "cell_type": "markdown",
   "metadata": {},
   "source": [
    "<h4> PROBLEM TWO: </h4> \n",
    "\n",
    "Problem 2a) Data for Chicago Public Schools can be imported into a Jupyter Notebook using the URL\n",
    "https://data.cityofchicago.org/resource/ngix-dc87.json\n",
    "\n",
    "Import this data into a dataframe called CPS\n"
   ]
  },
  {
   "cell_type": "code",
   "execution_count": 9,
   "metadata": {},
   "outputs": [],
   "source": [
    "import pandas as pd\n",
    "CPS = pd.read_json('https://data.cityofchicago.org/resource/ngix-dc87.json?$limit=100000') #Import data directly from data portal"
   ]
  },
  {
   "cell_type": "markdown",
   "metadata": {},
   "source": [
    "Problem 2b) Display the number of rows and columns."
   ]
  },
  {
   "cell_type": "code",
   "execution_count": 10,
   "metadata": {},
   "outputs": [
    {
     "data": {
      "text/plain": [
       "(651, 91)"
      ]
     },
     "execution_count": 10,
     "metadata": {},
     "output_type": "execute_result"
    }
   ],
   "source": [
    "CPS.shape"
   ]
  },
  {
   "cell_type": "markdown",
   "metadata": {},
   "source": [
    "Problem 2c) Display the names of the columns."
   ]
  },
  {
   "cell_type": "code",
   "execution_count": 11,
   "metadata": {},
   "outputs": [
    {
     "data": {
      "text/plain": [
       "Index(['address', 'attainment_sat_grade_11_school',\n",
       "       'attainment_sat_grade_11_school_1', 'average_length_suspension',\n",
       "       'average_length_suspension_1', 'average_length_suspension_2',\n",
       "       'behavior_discipline_year', 'behavior_discipline_year_1',\n",
       "       'blue_ribbon_award_year', 'chronic_truancy_pct', 'city',\n",
       "       'college_enrollment_cps_pct', 'college_enrollment_cps_pct_1',\n",
       "       'college_enrollment_school', 'college_enrollment_school_1',\n",
       "       'college_persistence_cps_pct', 'college_persistence_cps_pct_1',\n",
       "       'college_persistence_school', 'college_persistence_school_1',\n",
       "       'cps_school_profile', 'creative_school_certification_1',\n",
       "       'culture_climate_description', 'culture_climate_rating',\n",
       "       'excelerate_award_gold_year', 'excellence_award_year', 'fax',\n",
       "       'freshmen_on_track_cps_pct', 'freshmen_on_track_school',\n",
       "       'graduation_4_year_cps_pct', 'graduation_4_year_cps_pct_1',\n",
       "       'graduation_4_year_school', 'graduation_4_year_school_1',\n",
       "       'graduation_5_year_cps_pct', 'graduation_5_year_cps_pct_1',\n",
       "       'graduation_5_year_school', 'graduation_5_year_school_1',\n",
       "       'healthy_school_certification', 'healthy_school_certification_1',\n",
       "       'improvement_award_year', 'long_name', 'misconducts_to_suspensions',\n",
       "       'misconducts_to_suspensions_1', 'misconducts_to_suspensions_2',\n",
       "       'mobility_rate_pct', 'one_year_dropout_rate_avg',\n",
       "       'one_year_dropout_rate_year', 'one_year_dropout_rate_year_1',\n",
       "       'other_metrics_year_1', 'other_metrics_year_2',\n",
       "       'parent_survey_results_year', 'phone', 'primary_category',\n",
       "       'progress_report_year', 'progress_toward_graduation',\n",
       "       'progress_toward_graduation_1', 'sat_grade_11_score_cps_avg',\n",
       "       'sat_grade_11_score_school', 'school_id', 'school_latitude',\n",
       "       'school_longitude', 'school_survey_ambitious',\n",
       "       'school_survey_collaborative', 'school_survey_effective',\n",
       "       'school_survey_involved', 'school_survey_safety',\n",
       "       'school_survey_student_response', 'school_survey_student_response_1',\n",
       "       'school_survey_supportive', 'school_survey_teacher_response',\n",
       "       'school_survey_teacher_response_1', 'school_type', 'short_name',\n",
       "       'spot_light_award_year', 'state', 'state_school_report_card',\n",
       "       'student_attainment_description', 'student_attainment_rating',\n",
       "       'student_attendance_avg_pct', 'student_attendance_year_2',\n",
       "       'student_growth_description', 'student_growth_rating',\n",
       "       'supportive_school_award', 'supportive_school_award_desc',\n",
       "       'suspensions_per_100_students', 'suspensions_per_100_students_1',\n",
       "       'suspensions_per_100_students_2', 'teacher_attendance_avg_pct',\n",
       "       'teacher_attendance_year_1', 'teacher_attendance_year_2', 'website',\n",
       "       'zip'],\n",
       "      dtype='object')"
      ]
     },
     "execution_count": 11,
     "metadata": {},
     "output_type": "execute_result"
    }
   ],
   "source": [
    "CPS.columns"
   ]
  },
  {
   "cell_type": "markdown",
   "metadata": {},
   "source": [
    "Problem 2d) Display the first two rows of data"
   ]
  },
  {
   "cell_type": "code",
   "execution_count": 12,
   "metadata": {},
   "outputs": [
    {
     "data": {
      "text/html": [
       "<div>\n",
       "<style scoped>\n",
       "    .dataframe tbody tr th:only-of-type {\n",
       "        vertical-align: middle;\n",
       "    }\n",
       "\n",
       "    .dataframe tbody tr th {\n",
       "        vertical-align: top;\n",
       "    }\n",
       "\n",
       "    .dataframe thead th {\n",
       "        text-align: right;\n",
       "    }\n",
       "</style>\n",
       "<table border=\"1\" class=\"dataframe\">\n",
       "  <thead>\n",
       "    <tr style=\"text-align: right;\">\n",
       "      <th></th>\n",
       "      <th>address</th>\n",
       "      <th>attainment_sat_grade_11_school</th>\n",
       "      <th>attainment_sat_grade_11_school_1</th>\n",
       "      <th>average_length_suspension</th>\n",
       "      <th>average_length_suspension_1</th>\n",
       "      <th>average_length_suspension_2</th>\n",
       "      <th>behavior_discipline_year</th>\n",
       "      <th>behavior_discipline_year_1</th>\n",
       "      <th>blue_ribbon_award_year</th>\n",
       "      <th>chronic_truancy_pct</th>\n",
       "      <th>...</th>\n",
       "      <th>supportive_school_award</th>\n",
       "      <th>supportive_school_award_desc</th>\n",
       "      <th>suspensions_per_100_students</th>\n",
       "      <th>suspensions_per_100_students_1</th>\n",
       "      <th>suspensions_per_100_students_2</th>\n",
       "      <th>teacher_attendance_avg_pct</th>\n",
       "      <th>teacher_attendance_year_1</th>\n",
       "      <th>teacher_attendance_year_2</th>\n",
       "      <th>website</th>\n",
       "      <th>zip</th>\n",
       "    </tr>\n",
       "  </thead>\n",
       "  <tbody>\n",
       "    <tr>\n",
       "      <th>0</th>\n",
       "      <td>8331 S MACKINAW AVE</td>\n",
       "      <td>0.0</td>\n",
       "      <td>0.0</td>\n",
       "      <td>1.9 days</td>\n",
       "      <td>NaN</td>\n",
       "      <td>1.7 days</td>\n",
       "      <td>2020.0</td>\n",
       "      <td>2021.0</td>\n",
       "      <td>NaN</td>\n",
       "      <td>42.2</td>\n",
       "      <td>...</td>\n",
       "      <td>EMERGING</td>\n",
       "      <td>This school has developed an action plan to su...</td>\n",
       "      <td>4.1</td>\n",
       "      <td>NaN</td>\n",
       "      <td>0.0</td>\n",
       "      <td>89.0</td>\n",
       "      <td>93.6</td>\n",
       "      <td>82.6</td>\n",
       "      <td>{'url': 'https://newsullivan.cps.edu'}</td>\n",
       "      <td>60617</td>\n",
       "    </tr>\n",
       "    <tr>\n",
       "      <th>1</th>\n",
       "      <td>744 E 103RD ST</td>\n",
       "      <td>0.0</td>\n",
       "      <td>0.0</td>\n",
       "      <td>2.0 days</td>\n",
       "      <td>NaN</td>\n",
       "      <td>1.7 days</td>\n",
       "      <td>2020.0</td>\n",
       "      <td>2021.0</td>\n",
       "      <td>NaN</td>\n",
       "      <td>40.1</td>\n",
       "      <td>...</td>\n",
       "      <td>ESTABLISHED</td>\n",
       "      <td>This school has put in place systems and struc...</td>\n",
       "      <td>0.6</td>\n",
       "      <td>NaN</td>\n",
       "      <td>0.0</td>\n",
       "      <td>89.0</td>\n",
       "      <td>94.2</td>\n",
       "      <td>85.9</td>\n",
       "      <td>{'url': 'https://wendellsmith.cps.edu'}</td>\n",
       "      <td>60628</td>\n",
       "    </tr>\n",
       "  </tbody>\n",
       "</table>\n",
       "<p>2 rows × 91 columns</p>\n",
       "</div>"
      ],
      "text/plain": [
       "               address  attainment_sat_grade_11_school  \\\n",
       "0  8331 S MACKINAW AVE                             0.0   \n",
       "1       744 E 103RD ST                             0.0   \n",
       "\n",
       "   attainment_sat_grade_11_school_1 average_length_suspension  \\\n",
       "0                               0.0                  1.9 days   \n",
       "1                               0.0                  2.0 days   \n",
       "\n",
       "  average_length_suspension_1 average_length_suspension_2  \\\n",
       "0                         NaN                    1.7 days   \n",
       "1                         NaN                    1.7 days   \n",
       "\n",
       "   behavior_discipline_year  behavior_discipline_year_1  \\\n",
       "0                    2020.0                      2021.0   \n",
       "1                    2020.0                      2021.0   \n",
       "\n",
       "   blue_ribbon_award_year  chronic_truancy_pct  ...   supportive_school_award  \\\n",
       "0                     NaN                 42.2  ...                  EMERGING   \n",
       "1                     NaN                 40.1  ...               ESTABLISHED   \n",
       "\n",
       "                        supportive_school_award_desc  \\\n",
       "0  This school has developed an action plan to su...   \n",
       "1  This school has put in place systems and struc...   \n",
       "\n",
       "   suspensions_per_100_students  suspensions_per_100_students_1  \\\n",
       "0                           4.1                             NaN   \n",
       "1                           0.6                             NaN   \n",
       "\n",
       "   suspensions_per_100_students_2  teacher_attendance_avg_pct  \\\n",
       "0                             0.0                        89.0   \n",
       "1                             0.0                        89.0   \n",
       "\n",
       "   teacher_attendance_year_1  teacher_attendance_year_2  \\\n",
       "0                       93.6                       82.6   \n",
       "1                       94.2                       85.9   \n",
       "\n",
       "                                   website    zip  \n",
       "0   {'url': 'https://newsullivan.cps.edu'}  60617  \n",
       "1  {'url': 'https://wendellsmith.cps.edu'}  60628  \n",
       "\n",
       "[2 rows x 91 columns]"
      ]
     },
     "execution_count": 12,
     "metadata": {},
     "output_type": "execute_result"
    }
   ],
   "source": [
    "CPS.head(2)"
   ]
  },
  {
   "cell_type": "markdown",
   "metadata": {},
   "source": [
    "<h3> 3. Simplifying the Imported Dataset</h3>\n",
    "Example 3a) Create a dataframe called artdf using the columns ['art','artist', 'park_name'] from the dataframe ART"
   ]
  },
  {
   "cell_type": "code",
   "execution_count": 13,
   "metadata": {},
   "outputs": [],
   "source": [
    "artdf=ART[ ['art','artist', 'park_name'] ]"
   ]
  },
  {
   "cell_type": "markdown",
   "metadata": {},
   "source": [
    "Example 3b) Display the first 5 rows of data"
   ]
  },
  {
   "cell_type": "code",
   "execution_count": 14,
   "metadata": {},
   "outputs": [
    {
     "data": {
      "text/html": [
       "<div>\n",
       "<style scoped>\n",
       "    .dataframe tbody tr th:only-of-type {\n",
       "        vertical-align: middle;\n",
       "    }\n",
       "\n",
       "    .dataframe tbody tr th {\n",
       "        vertical-align: top;\n",
       "    }\n",
       "\n",
       "    .dataframe thead th {\n",
       "        text-align: right;\n",
       "    }\n",
       "</style>\n",
       "<table border=\"1\" class=\"dataframe\">\n",
       "  <thead>\n",
       "    <tr style=\"text-align: right;\">\n",
       "      <th></th>\n",
       "      <th>art</th>\n",
       "      <th>artist</th>\n",
       "      <th>park_name</th>\n",
       "    </tr>\n",
       "  </thead>\n",
       "  <tbody>\n",
       "    <tr>\n",
       "      <th>0</th>\n",
       "      <td>Interpreting Nature</td>\n",
       "      <td>Roman Villareal</td>\n",
       "      <td>HUMBOLDT (BARON VON)</td>\n",
       "    </tr>\n",
       "    <tr>\n",
       "      <th>1</th>\n",
       "      <td>The Young Lincoln</td>\n",
       "      <td>Charles Keck</td>\n",
       "      <td>SENN (NICHOLAS)</td>\n",
       "    </tr>\n",
       "    <tr>\n",
       "      <th>2</th>\n",
       "      <td>Kwa-Ma-Rolas (Totem Pole)</td>\n",
       "      <td>Haida Indians</td>\n",
       "      <td>LINCOLN (ABRAHAM)</td>\n",
       "    </tr>\n",
       "    <tr>\n",
       "      <th>3</th>\n",
       "      <td>Christopher Columbus and Fountain</td>\n",
       "      <td>Moses Ezekiel</td>\n",
       "      <td>ARRIGO (VICTOR)</td>\n",
       "    </tr>\n",
       "    <tr>\n",
       "      <th>4</th>\n",
       "      <td>Curve XXII (I Will)</td>\n",
       "      <td>Ellsworth Kelly</td>\n",
       "      <td>LINCOLN (ABRAHAM)</td>\n",
       "    </tr>\n",
       "  </tbody>\n",
       "</table>\n",
       "</div>"
      ],
      "text/plain": [
       "                                 art           artist             park_name\n",
       "0                Interpreting Nature  Roman Villareal  HUMBOLDT (BARON VON)\n",
       "1                  The Young Lincoln     Charles Keck       SENN (NICHOLAS)\n",
       "2          Kwa-Ma-Rolas (Totem Pole)    Haida Indians     LINCOLN (ABRAHAM)\n",
       "3  Christopher Columbus and Fountain    Moses Ezekiel       ARRIGO (VICTOR)\n",
       "4                Curve XXII (I Will)  Ellsworth Kelly     LINCOLN (ABRAHAM)"
      ]
     },
     "execution_count": 14,
     "metadata": {},
     "output_type": "execute_result"
    }
   ],
   "source": [
    "artdf.head(5)"
   ]
  },
  {
   "cell_type": "markdown",
   "metadata": {},
   "source": [
    "Example 3c) \n",
    "displays the different park names and how many art exhibits they have"
   ]
  },
  {
   "cell_type": "code",
   "execution_count": 15,
   "metadata": {},
   "outputs": [
    {
     "data": {
      "text/plain": [
       "LINCOLN (ABRAHAM)                   53\n",
       "GRANT (ULYSSES)                     33\n",
       "BURNHAM (DANIEL)                    10\n",
       "GARFIELD (JAMES)                     9\n",
       "NORTHERLY ISLAND                     7\n",
       "WASHINGTON (GEORGE)                  6\n",
       "HUMBOLDT (BARON VON)                 6\n",
       "OZ                                   4\n",
       "NICHOLS (JOHN FOUNTAIN)              3\n",
       "MIDWAY PLAISANCE                     3\n",
       "UNION                                2\n",
       "INDIAN BOUNDARY                      2\n",
       "WICKER (CHARLES, JOEL)               2\n",
       "CHICAGO WOMEN'S PARK AND GARDENS     2\n",
       "KENNEDY (DENNIS)                     2\n",
       "FULLER (MELVILLE)                    2\n",
       "COMMERCIAL CLUB PGD. OF CHICAGO      1\n",
       "JONQUIL                              1\n",
       "GOMPERS (SAMUEL)                     1\n",
       "GOUDY (WILLIAM) SQUARE               1\n",
       "OWENS (JESSE)                        1\n",
       "LOGAN SQUARE SKATE PARK              1\n",
       "JACKSON (ANDREW)                     1\n",
       "MARIANO (LOUIS)                      1\n",
       "SENECA                               1\n",
       "McKINLEY (WILLIAM)                   1\n",
       "DEARBORN (HENRY)                     1\n",
       "CANAL ORIGINS                        1\n",
       "CONNORS (WILLIAM)                    1\n",
       "PALMISANO (HENRY)                    1\n",
       "                                    ..\n",
       "OGDEN (WILLIAM)                      1\n",
       "SUN YAT-SEN                          1\n",
       "CORNELL (PAUL) SQUARE                1\n",
       "TRUMBULL (LYMAN)                     1\n",
       "TOM (PING) MEML.                     1\n",
       "KING (MARTIN LUTHER, JR.)            1\n",
       "BIXLER (RAY)                         1\n",
       "MARQUETTE (JACQUES)                  1\n",
       "PARK NO. 532                         1\n",
       "HORNER (HENRY)                       1\n",
       "PARK NO. 474                         1\n",
       "LEGION                               1\n",
       "SKINNER (MARK)                       1\n",
       "OGDEN (WILLIAM) PLAZA                1\n",
       "MERRIMAC                             1\n",
       "HARRISON (CARTER)                    1\n",
       "ARRIGO (VICTOR)                      1\n",
       "WARREN (LAURENCE)                    1\n",
       "PORTAGE                              1\n",
       "WASHINGTON SQUARE                    1\n",
       "WEST PULLMAN                         1\n",
       "WARD (A. MONTGOMERY)                 1\n",
       "MID-NORTH                            1\n",
       "MONUMENT                             1\n",
       "PARK NO. 554                         1\n",
       "HERITAGE GREEN                       1\n",
       "LOYOLA                               1\n",
       "SENN (NICHOLAS)                      1\n",
       "TOUHY (PATRICK)                      1\n",
       "MOUNT GREENWOOD                      1\n",
       "Name: park_name, Length: 64, dtype: int64"
      ]
     },
     "execution_count": 15,
     "metadata": {},
     "output_type": "execute_result"
    }
   ],
   "source": [
    "artdf['park_name'].value_counts()"
   ]
  },
  {
   "cell_type": "markdown",
   "metadata": {},
   "source": [
    "<h4> Problem Three </h4>\n",
    "\n",
    "Problem 3a) Create a dataframe called cpsdf using the columns ['address','short_name', 'supportive_school_award'] from the dataframe CPS\n",
    "\n",
    "\n",
    "\n"
   ]
  },
  {
   "cell_type": "code",
   "execution_count": 16,
   "metadata": {},
   "outputs": [],
   "source": [
    "cpsdf=CPS[['address','short_name', 'supportive_school_award']]"
   ]
  },
  {
   "cell_type": "markdown",
   "metadata": {},
   "source": [
    "Problem 3b) Display the first 5 rows of data"
   ]
  },
  {
   "cell_type": "code",
   "execution_count": 17,
   "metadata": {},
   "outputs": [
    {
     "data": {
      "text/html": [
       "<div>\n",
       "<style scoped>\n",
       "    .dataframe tbody tr th:only-of-type {\n",
       "        vertical-align: middle;\n",
       "    }\n",
       "\n",
       "    .dataframe tbody tr th {\n",
       "        vertical-align: top;\n",
       "    }\n",
       "\n",
       "    .dataframe thead th {\n",
       "        text-align: right;\n",
       "    }\n",
       "</style>\n",
       "<table border=\"1\" class=\"dataframe\">\n",
       "  <thead>\n",
       "    <tr style=\"text-align: right;\">\n",
       "      <th></th>\n",
       "      <th>address</th>\n",
       "      <th>short_name</th>\n",
       "      <th>supportive_school_award</th>\n",
       "    </tr>\n",
       "  </thead>\n",
       "  <tbody>\n",
       "    <tr>\n",
       "      <th>0</th>\n",
       "      <td>8331 S MACKINAW AVE</td>\n",
       "      <td>NEW SULLIVAN</td>\n",
       "      <td>EMERGING</td>\n",
       "    </tr>\n",
       "    <tr>\n",
       "      <th>1</th>\n",
       "      <td>744 E 103RD ST</td>\n",
       "      <td>SMITH</td>\n",
       "      <td>ESTABLISHED</td>\n",
       "    </tr>\n",
       "    <tr>\n",
       "      <th>2</th>\n",
       "      <td>5110 N DAMEN AVE</td>\n",
       "      <td>AMUNDSEN HS</td>\n",
       "      <td>ESTABLISHED</td>\n",
       "    </tr>\n",
       "    <tr>\n",
       "      <th>3</th>\n",
       "      <td>6634 W RAVEN ST</td>\n",
       "      <td>ONAHAN</td>\n",
       "      <td>ESTABLISHED</td>\n",
       "    </tr>\n",
       "    <tr>\n",
       "      <th>4</th>\n",
       "      <td>730 N PULASKI RD</td>\n",
       "      <td>ORR HS</td>\n",
       "      <td>NOT RATED</td>\n",
       "    </tr>\n",
       "  </tbody>\n",
       "</table>\n",
       "</div>"
      ],
      "text/plain": [
       "               address    short_name supportive_school_award\n",
       "0  8331 S MACKINAW AVE  NEW SULLIVAN                EMERGING\n",
       "1       744 E 103RD ST         SMITH             ESTABLISHED\n",
       "2     5110 N DAMEN AVE   AMUNDSEN HS             ESTABLISHED\n",
       "3      6634 W RAVEN ST        ONAHAN             ESTABLISHED\n",
       "4     730 N PULASKI RD        ORR HS               NOT RATED"
      ]
     },
     "execution_count": 17,
     "metadata": {},
     "output_type": "execute_result"
    }
   ],
   "source": [
    "cpsdf.head(5)"
   ]
  },
  {
   "cell_type": "raw",
   "metadata": {},
   "source": [
    "Problem 3c) Display the different supportive school awards and how many schools received each award"
   ]
  },
  {
   "cell_type": "code",
   "execution_count": 18,
   "metadata": {},
   "outputs": [
    {
     "data": {
      "text/plain": [
       "EMERGING       240\n",
       "ESTABLISHED    224\n",
       "NOT RATED      129\n",
       "EXEMPLARY       56\n",
       "Name: supportive_school_award, dtype: int64"
      ]
     },
     "execution_count": 18,
     "metadata": {},
     "output_type": "execute_result"
    }
   ],
   "source": [
    "cpsdf['supportive_school_award'].value_counts()"
   ]
  },
  {
   "cell_type": "markdown",
   "metadata": {},
   "source": [
    "<h4> Problem Four</h4>\n",
    "\n",
    "1) Go to the Individual Landmarks data at https://data.cityofchicago.org/Historic-Preservation/Individual-Landmarks/tdab-kixi/data\n",
    "\n",
    "\n",
    "2) Use  'View Data' -> 'Export' -> 'SODA API' ->  copy the API endpoint\n",
    "\n",
    "3) Import the data to a dataframe my_df using the API endpoint. Display the first 5 rows of the data.\n",
    "\n",
    "4) Streamline the data to just the columns [\"address\",\"architect\",\"date_built\",\"landmark_name\"] and put the results in my_df1\n",
    "\n",
    "5) Use the command my_df1.to_excel(\"Lesson3.xlsx\") to create an Excel file with th data.\n",
    "\n",
    "6) Dpwnload the Excel file and submit a PDF of Lesson3.xlsx."
   ]
  },
  {
   "cell_type": "markdown",
   "metadata": {},
   "source": [
    "<h3>Example Solution</h3>"
   ]
  },
  {
   "cell_type": "markdown",
   "metadata": {},
   "source": [
    "1) Go to the the Individual Landmarks data at https://data.cityofchicago.org/Historic-Preservation/Individual-Landmarks/tdab-kixi/data\n",
    "\n",
    "    \n",
    "2) https://data.cityofchicago.org/resource/tdab-kixi.json"
   ]
  },
  {
   "cell_type": "code",
   "execution_count": 20,
   "metadata": {},
   "outputs": [
    {
     "data": {
      "text/html": [
       "<div>\n",
       "<style scoped>\n",
       "    .dataframe tbody tr th:only-of-type {\n",
       "        vertical-align: middle;\n",
       "    }\n",
       "\n",
       "    .dataframe tbody tr th {\n",
       "        vertical-align: top;\n",
       "    }\n",
       "\n",
       "    .dataframe thead th {\n",
       "        text-align: right;\n",
       "    }\n",
       "</style>\n",
       "<table border=\"1\" class=\"dataframe\">\n",
       "  <thead>\n",
       "    <tr style=\"text-align: right;\">\n",
       "      <th></th>\n",
       "      <th>:@computed_region_43wa_7qmu</th>\n",
       "      <th>:@computed_region_6mkv_f3dw</th>\n",
       "      <th>:@computed_region_awaf_s7ux</th>\n",
       "      <th>:@computed_region_bdys_3d7i</th>\n",
       "      <th>:@computed_region_rpca_8um6</th>\n",
       "      <th>:@computed_region_vrxf_vc4k</th>\n",
       "      <th>address</th>\n",
       "      <th>architect</th>\n",
       "      <th>date_built</th>\n",
       "      <th>id</th>\n",
       "      <th>landmark_designation_date</th>\n",
       "      <th>landmark_name</th>\n",
       "      <th>latitude</th>\n",
       "      <th>location</th>\n",
       "      <th>longitude</th>\n",
       "    </tr>\n",
       "  </thead>\n",
       "  <tbody>\n",
       "    <tr>\n",
       "      <th>0</th>\n",
       "      <td>40.0</td>\n",
       "      <td>22535.0</td>\n",
       "      <td>24.0</td>\n",
       "      <td>240.0</td>\n",
       "      <td>1.0</td>\n",
       "      <td>23.0</td>\n",
       "      <td>2543 - 2545 W Diversey Av</td>\n",
       "      <td>NaN</td>\n",
       "      <td>NaN</td>\n",
       "      <td>L-265</td>\n",
       "      <td>2008-07-30T07:00:00.000Z</td>\n",
       "      <td>Vassar Swiss Underwear Company Building</td>\n",
       "      <td>41.931627</td>\n",
       "      <td>{'latitude': '41.9316266084', 'longitude': '-8...</td>\n",
       "      <td>-87.692100</td>\n",
       "    </tr>\n",
       "    <tr>\n",
       "      <th>1</th>\n",
       "      <td>10.0</td>\n",
       "      <td>4301.0</td>\n",
       "      <td>1.0</td>\n",
       "      <td>220.0</td>\n",
       "      <td>36.0</td>\n",
       "      <td>2.0</td>\n",
       "      <td>4122 S Ellis Av</td>\n",
       "      <td>Adler &amp; Sullivan</td>\n",
       "      <td>1886</td>\n",
       "      <td>L- 89</td>\n",
       "      <td>1991-10-02T07:00:00.000Z</td>\n",
       "      <td>Mathilde Eliel House</td>\n",
       "      <td>41.819256</td>\n",
       "      <td>{'latitude': '41.819255751', 'longitude': '-87...</td>\n",
       "      <td>-87.602788</td>\n",
       "    </tr>\n",
       "    <tr>\n",
       "      <th>2</th>\n",
       "      <td>10.0</td>\n",
       "      <td>14913.0</td>\n",
       "      <td>48.0</td>\n",
       "      <td>92.0</td>\n",
       "      <td>35.0</td>\n",
       "      <td>38.0</td>\n",
       "      <td>431 S Dearborn St</td>\n",
       "      <td>William LeBaron Jenney</td>\n",
       "      <td>1891</td>\n",
       "      <td>L-139</td>\n",
       "      <td>1978-07-07T07:00:00.000Z</td>\n",
       "      <td>Manhattan Building</td>\n",
       "      <td>41.876066</td>\n",
       "      <td>{'latitude': '41.8760657234', 'longitude': '-8...</td>\n",
       "      <td>-87.628964</td>\n",
       "    </tr>\n",
       "    <tr>\n",
       "      <th>3</th>\n",
       "      <td>9.0</td>\n",
       "      <td>21194.0</td>\n",
       "      <td>12.0</td>\n",
       "      <td>25.0</td>\n",
       "      <td>40.0</td>\n",
       "      <td>1.0</td>\n",
       "      <td>100 W 33rd St</td>\n",
       "      <td>Patton, Fisher &amp; Miller</td>\n",
       "      <td>1901</td>\n",
       "      <td>L- 12</td>\n",
       "      <td>2004-05-26T07:00:00.000Z</td>\n",
       "      <td>Machinery Hall at Illinois Institute of Techno...</td>\n",
       "      <td>41.835161</td>\n",
       "      <td>{'latitude': '41.8351614122', 'longitude': '-8...</td>\n",
       "      <td>-87.629221</td>\n",
       "    </tr>\n",
       "    <tr>\n",
       "      <th>4</th>\n",
       "      <td>9.0</td>\n",
       "      <td>21192.0</td>\n",
       "      <td>12.0</td>\n",
       "      <td>162.0</td>\n",
       "      <td>10.0</td>\n",
       "      <td>4.0</td>\n",
       "      <td>4726 S Dr Martin Luther King Jr Dr</td>\n",
       "      <td>Henry L. Newhouse</td>\n",
       "      <td>1903</td>\n",
       "      <td>L- 88</td>\n",
       "      <td>1979-03-21T08:00:00.000Z</td>\n",
       "      <td>Melissa Ann Elam House</td>\n",
       "      <td>41.808530</td>\n",
       "      <td>{'latitude': '41.808529769', 'longitude': '-87...</td>\n",
       "      <td>-87.617204</td>\n",
       "    </tr>\n",
       "  </tbody>\n",
       "</table>\n",
       "</div>"
      ],
      "text/plain": [
       "   :@computed_region_43wa_7qmu  :@computed_region_6mkv_f3dw  \\\n",
       "0                         40.0                      22535.0   \n",
       "1                         10.0                       4301.0   \n",
       "2                         10.0                      14913.0   \n",
       "3                          9.0                      21194.0   \n",
       "4                          9.0                      21192.0   \n",
       "\n",
       "   :@computed_region_awaf_s7ux  :@computed_region_bdys_3d7i  \\\n",
       "0                         24.0                        240.0   \n",
       "1                          1.0                        220.0   \n",
       "2                         48.0                         92.0   \n",
       "3                         12.0                         25.0   \n",
       "4                         12.0                        162.0   \n",
       "\n",
       "   :@computed_region_rpca_8um6  :@computed_region_vrxf_vc4k  \\\n",
       "0                          1.0                         23.0   \n",
       "1                         36.0                          2.0   \n",
       "2                         35.0                         38.0   \n",
       "3                         40.0                          1.0   \n",
       "4                         10.0                          4.0   \n",
       "\n",
       "                              address                architect date_built  \\\n",
       "0           2543 - 2545 W Diversey Av                      NaN        NaN   \n",
       "1                     4122 S Ellis Av         Adler & Sullivan       1886   \n",
       "2                   431 S Dearborn St   William LeBaron Jenney       1891   \n",
       "3                       100 W 33rd St  Patton, Fisher & Miller       1901   \n",
       "4  4726 S Dr Martin Luther King Jr Dr        Henry L. Newhouse       1903   \n",
       "\n",
       "      id landmark_designation_date  \\\n",
       "0  L-265  2008-07-30T07:00:00.000Z   \n",
       "1  L- 89  1991-10-02T07:00:00.000Z   \n",
       "2  L-139  1978-07-07T07:00:00.000Z   \n",
       "3  L- 12  2004-05-26T07:00:00.000Z   \n",
       "4  L- 88  1979-03-21T08:00:00.000Z   \n",
       "\n",
       "                                       landmark_name   latitude  \\\n",
       "0            Vassar Swiss Underwear Company Building  41.931627   \n",
       "1                               Mathilde Eliel House  41.819256   \n",
       "2                                 Manhattan Building  41.876066   \n",
       "3  Machinery Hall at Illinois Institute of Techno...  41.835161   \n",
       "4                             Melissa Ann Elam House  41.808530   \n",
       "\n",
       "                                            location  longitude  \n",
       "0  {'latitude': '41.9316266084', 'longitude': '-8... -87.692100  \n",
       "1  {'latitude': '41.819255751', 'longitude': '-87... -87.602788  \n",
       "2  {'latitude': '41.8760657234', 'longitude': '-8... -87.628964  \n",
       "3  {'latitude': '41.8351614122', 'longitude': '-8... -87.629221  \n",
       "4  {'latitude': '41.808529769', 'longitude': '-87... -87.617204  "
      ]
     },
     "execution_count": 20,
     "metadata": {},
     "output_type": "execute_result"
    }
   ],
   "source": [
    "#3)\n",
    "import pandas as pd\n",
    "my_df = pd.read_json('https://data.cityofchicago.org/resource/tdab-kixi.json?$limit=100000') #Import data directly from data portal\n",
    "my_df.head()"
   ]
  },
  {
   "cell_type": "code",
   "execution_count": 22,
   "metadata": {},
   "outputs": [
    {
     "data": {
      "text/html": [
       "<div>\n",
       "<style scoped>\n",
       "    .dataframe tbody tr th:only-of-type {\n",
       "        vertical-align: middle;\n",
       "    }\n",
       "\n",
       "    .dataframe tbody tr th {\n",
       "        vertical-align: top;\n",
       "    }\n",
       "\n",
       "    .dataframe thead th {\n",
       "        text-align: right;\n",
       "    }\n",
       "</style>\n",
       "<table border=\"1\" class=\"dataframe\">\n",
       "  <thead>\n",
       "    <tr style=\"text-align: right;\">\n",
       "      <th></th>\n",
       "      <th>address</th>\n",
       "      <th>architect</th>\n",
       "      <th>date_built</th>\n",
       "      <th>landmark_name</th>\n",
       "    </tr>\n",
       "  </thead>\n",
       "  <tbody>\n",
       "    <tr>\n",
       "      <th>0</th>\n",
       "      <td>2543 - 2545 W Diversey Av</td>\n",
       "      <td>NaN</td>\n",
       "      <td>NaN</td>\n",
       "      <td>Vassar Swiss Underwear Company Building</td>\n",
       "    </tr>\n",
       "    <tr>\n",
       "      <th>1</th>\n",
       "      <td>4122 S Ellis Av</td>\n",
       "      <td>Adler &amp; Sullivan</td>\n",
       "      <td>1886</td>\n",
       "      <td>Mathilde Eliel House</td>\n",
       "    </tr>\n",
       "    <tr>\n",
       "      <th>2</th>\n",
       "      <td>431 S Dearborn St</td>\n",
       "      <td>William LeBaron Jenney</td>\n",
       "      <td>1891</td>\n",
       "      <td>Manhattan Building</td>\n",
       "    </tr>\n",
       "    <tr>\n",
       "      <th>3</th>\n",
       "      <td>100 W 33rd St</td>\n",
       "      <td>Patton, Fisher &amp; Miller</td>\n",
       "      <td>1901</td>\n",
       "      <td>Machinery Hall at Illinois Institute of Techno...</td>\n",
       "    </tr>\n",
       "    <tr>\n",
       "      <th>4</th>\n",
       "      <td>4726 S Dr Martin Luther King Jr Dr</td>\n",
       "      <td>Henry L. Newhouse</td>\n",
       "      <td>1903</td>\n",
       "      <td>Melissa Ann Elam House</td>\n",
       "    </tr>\n",
       "  </tbody>\n",
       "</table>\n",
       "</div>"
      ],
      "text/plain": [
       "                              address                architect date_built  \\\n",
       "0           2543 - 2545 W Diversey Av                      NaN        NaN   \n",
       "1                     4122 S Ellis Av         Adler & Sullivan       1886   \n",
       "2                   431 S Dearborn St   William LeBaron Jenney       1891   \n",
       "3                       100 W 33rd St  Patton, Fisher & Miller       1901   \n",
       "4  4726 S Dr Martin Luther King Jr Dr        Henry L. Newhouse       1903   \n",
       "\n",
       "                                       landmark_name  \n",
       "0            Vassar Swiss Underwear Company Building  \n",
       "1                               Mathilde Eliel House  \n",
       "2                                 Manhattan Building  \n",
       "3  Machinery Hall at Illinois Institute of Techno...  \n",
       "4                             Melissa Ann Elam House  "
      ]
     },
     "execution_count": 22,
     "metadata": {},
     "output_type": "execute_result"
    }
   ],
   "source": [
    "#4)\n",
    "my_df1=my_df[[\"address\",\"architect\",\"date_built\",\"landmark_name\"]]\n",
    "my_df1.head()"
   ]
  },
  {
   "cell_type": "code",
   "execution_count": 23,
   "metadata": {},
   "outputs": [],
   "source": [
    "my_df1.to_excel(\"Lesson3.xlsx\")"
   ]
  },
  {
   "cell_type": "code",
   "execution_count": null,
   "metadata": {},
   "outputs": [],
   "source": []
  }
 ],
 "metadata": {
  "kernelspec": {
   "display_name": "Python 3",
   "language": "python",
   "name": "python3"
  },
  "language_info": {
   "codemirror_mode": {
    "name": "ipython",
    "version": 3
   },
   "file_extension": ".py",
   "mimetype": "text/x-python",
   "name": "python",
   "nbconvert_exporter": "python",
   "pygments_lexer": "ipython3",
   "version": "3.6.4"
  }
 },
 "nbformat": 4,
 "nbformat_minor": 2
}
