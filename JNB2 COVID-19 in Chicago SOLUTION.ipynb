{
 "cells": [
  {
   "cell_type": "markdown",
   "metadata": {},
   "source": [
    "<h3> HOW BAD IS COVID IN CHICAGO (BY ZIPCODE)? </h3>\n",
    "Data: Imported directly from the Chicago Data Portal"
   ]
  },
  {
   "cell_type": "markdown",
   "metadata": {},
   "source": [
    "<h3> STEP 1</h3>\n",
    "Let's read in up to 100,000 rows of COVID data for Chicago from the Chicago Data Portal."
   ]
  },
  {
   "cell_type": "code",
   "execution_count": 5,
   "metadata": {},
   "outputs": [
    {
     "data": {
      "text/html": [
       "<div>\n",
       "<style scoped>\n",
       "    .dataframe tbody tr th:only-of-type {\n",
       "        vertical-align: middle;\n",
       "    }\n",
       "\n",
       "    .dataframe tbody tr th {\n",
       "        vertical-align: top;\n",
       "    }\n",
       "\n",
       "    .dataframe thead th {\n",
       "        text-align: right;\n",
       "    }\n",
       "</style>\n",
       "<table border=\"1\" class=\"dataframe\">\n",
       "  <thead>\n",
       "    <tr style=\"text-align: right;\">\n",
       "      <th></th>\n",
       "      <th>:@computed_region_43wa_7qmu</th>\n",
       "      <th>:@computed_region_6mkv_f3dw</th>\n",
       "      <th>:@computed_region_bdys_3d7i</th>\n",
       "      <th>:@computed_region_rpca_8um6</th>\n",
       "      <th>:@computed_region_vrxf_vc4k</th>\n",
       "      <th>case_rate_cumulative</th>\n",
       "      <th>case_rate_weekly</th>\n",
       "      <th>cases_cumulative</th>\n",
       "      <th>cases_weekly</th>\n",
       "      <th>death_rate_cumulative</th>\n",
       "      <th>...</th>\n",
       "      <th>row_id</th>\n",
       "      <th>test_rate_cumulative</th>\n",
       "      <th>test_rate_weekly</th>\n",
       "      <th>tests_cumulative</th>\n",
       "      <th>tests_weekly</th>\n",
       "      <th>week_end</th>\n",
       "      <th>week_number</th>\n",
       "      <th>week_start</th>\n",
       "      <th>zip_code</th>\n",
       "      <th>zip_code_location</th>\n",
       "    </tr>\n",
       "  </thead>\n",
       "  <tbody>\n",
       "    <tr>\n",
       "      <th>0</th>\n",
       "      <td>36.0</td>\n",
       "      <td>14309.0</td>\n",
       "      <td>580.0</td>\n",
       "      <td>42.0</td>\n",
       "      <td>38.0</td>\n",
       "      <td>6773.4</td>\n",
       "      <td>197.6</td>\n",
       "      <td>994.0</td>\n",
       "      <td>29.0</td>\n",
       "      <td>75.0</td>\n",
       "      <td>...</td>\n",
       "      <td>60601-2021-12</td>\n",
       "      <td>156967.6</td>\n",
       "      <td>4197.6</td>\n",
       "      <td>23035</td>\n",
       "      <td>616.0</td>\n",
       "      <td>2021-03-27T00:00:00.000</td>\n",
       "      <td>12</td>\n",
       "      <td>2021-03-21T00:00:00.000</td>\n",
       "      <td>60601</td>\n",
       "      <td>{'type': 'Point', 'coordinates': [-87.622844, ...</td>\n",
       "    </tr>\n",
       "    <tr>\n",
       "      <th>1</th>\n",
       "      <td>36.0</td>\n",
       "      <td>14309.0</td>\n",
       "      <td>580.0</td>\n",
       "      <td>42.0</td>\n",
       "      <td>38.0</td>\n",
       "      <td>7822.8</td>\n",
       "      <td>136.3</td>\n",
       "      <td>1148.0</td>\n",
       "      <td>20.0</td>\n",
       "      <td>81.8</td>\n",
       "      <td>...</td>\n",
       "      <td>60601-2021-31</td>\n",
       "      <td>234316.9</td>\n",
       "      <td>5267.5</td>\n",
       "      <td>34386</td>\n",
       "      <td>773.0</td>\n",
       "      <td>2021-08-07T00:00:00.000</td>\n",
       "      <td>31</td>\n",
       "      <td>2021-08-01T00:00:00.000</td>\n",
       "      <td>60601</td>\n",
       "      <td>{'type': 'Point', 'coordinates': [-87.622844, ...</td>\n",
       "    </tr>\n",
       "    <tr>\n",
       "      <th>2</th>\n",
       "      <td>36.0</td>\n",
       "      <td>14309.0</td>\n",
       "      <td>580.0</td>\n",
       "      <td>42.0</td>\n",
       "      <td>38.0</td>\n",
       "      <td>8068.1</td>\n",
       "      <td>129.5</td>\n",
       "      <td>1184.0</td>\n",
       "      <td>19.0</td>\n",
       "      <td>81.8</td>\n",
       "      <td>...</td>\n",
       "      <td>60601-2021-33</td>\n",
       "      <td>248429.3</td>\n",
       "      <td>8327.1</td>\n",
       "      <td>36457</td>\n",
       "      <td>1222.0</td>\n",
       "      <td>2021-08-21T00:00:00.000</td>\n",
       "      <td>33</td>\n",
       "      <td>2021-08-15T00:00:00.000</td>\n",
       "      <td>60601</td>\n",
       "      <td>{'type': 'Point', 'coordinates': [-87.622844, ...</td>\n",
       "    </tr>\n",
       "    <tr>\n",
       "      <th>3</th>\n",
       "      <td>10.0</td>\n",
       "      <td>14913.0</td>\n",
       "      <td>368.0</td>\n",
       "      <td>35.0</td>\n",
       "      <td>38.0</td>\n",
       "      <td>6192.1</td>\n",
       "      <td>65.4</td>\n",
       "      <td>1704.0</td>\n",
       "      <td>18.0</td>\n",
       "      <td>40.0</td>\n",
       "      <td>...</td>\n",
       "      <td>60605-2021-9</td>\n",
       "      <td>131098.5</td>\n",
       "      <td>3637.5</td>\n",
       "      <td>36077</td>\n",
       "      <td>1001.0</td>\n",
       "      <td>2021-03-06T00:00:00.000</td>\n",
       "      <td>9</td>\n",
       "      <td>2021-02-28T00:00:00.000</td>\n",
       "      <td>60605</td>\n",
       "      <td>{'type': 'Point', 'coordinates': [-87.623449, ...</td>\n",
       "    </tr>\n",
       "    <tr>\n",
       "      <th>4</th>\n",
       "      <td>36.0</td>\n",
       "      <td>14914.0</td>\n",
       "      <td>92.0</td>\n",
       "      <td>46.0</td>\n",
       "      <td>38.0</td>\n",
       "      <td>2128.3</td>\n",
       "      <td>32.2</td>\n",
       "      <td>66.0</td>\n",
       "      <td>1.0</td>\n",
       "      <td>32.2</td>\n",
       "      <td>...</td>\n",
       "      <td>60606-2020-37</td>\n",
       "      <td>76878.4</td>\n",
       "      <td>4127.7</td>\n",
       "      <td>2384</td>\n",
       "      <td>128.0</td>\n",
       "      <td>2020-09-12T00:00:00.000</td>\n",
       "      <td>37</td>\n",
       "      <td>2020-09-06T00:00:00.000</td>\n",
       "      <td>60606</td>\n",
       "      <td>{'type': 'Point', 'coordinates': [-87.63676, 4...</td>\n",
       "    </tr>\n",
       "    <tr>\n",
       "      <th>5</th>\n",
       "      <td>10.0</td>\n",
       "      <td>14912.0</td>\n",
       "      <td>92.0</td>\n",
       "      <td>29.0</td>\n",
       "      <td>38.0</td>\n",
       "      <td>14961.6</td>\n",
       "      <td>383.6</td>\n",
       "      <td>117.0</td>\n",
       "      <td>3.0</td>\n",
       "      <td>0.0</td>\n",
       "      <td>...</td>\n",
       "      <td>60604-2021-33</td>\n",
       "      <td>854987.2</td>\n",
       "      <td>32736.6</td>\n",
       "      <td>6686</td>\n",
       "      <td>256.0</td>\n",
       "      <td>2021-08-21T00:00:00.000</td>\n",
       "      <td>33</td>\n",
       "      <td>2021-08-15T00:00:00.000</td>\n",
       "      <td>60604</td>\n",
       "      <td>{'type': 'Point', 'coordinates': [-87.629029, ...</td>\n",
       "    </tr>\n",
       "    <tr>\n",
       "      <th>6</th>\n",
       "      <td>10.0</td>\n",
       "      <td>14912.0</td>\n",
       "      <td>92.0</td>\n",
       "      <td>29.0</td>\n",
       "      <td>38.0</td>\n",
       "      <td>15089.5</td>\n",
       "      <td>127.9</td>\n",
       "      <td>118.0</td>\n",
       "      <td>1.0</td>\n",
       "      <td>0.0</td>\n",
       "      <td>...</td>\n",
       "      <td>60604-2021-34</td>\n",
       "      <td>893861.9</td>\n",
       "      <td>38874.7</td>\n",
       "      <td>6990</td>\n",
       "      <td>304.0</td>\n",
       "      <td>2021-08-28T00:00:00.000</td>\n",
       "      <td>34</td>\n",
       "      <td>2021-08-22T00:00:00.000</td>\n",
       "      <td>60604</td>\n",
       "      <td>{'type': 'Point', 'coordinates': [-87.629029, ...</td>\n",
       "    </tr>\n",
       "    <tr>\n",
       "      <th>7</th>\n",
       "      <td>10.0</td>\n",
       "      <td>14912.0</td>\n",
       "      <td>92.0</td>\n",
       "      <td>29.0</td>\n",
       "      <td>38.0</td>\n",
       "      <td>15217.4</td>\n",
       "      <td>127.9</td>\n",
       "      <td>119.0</td>\n",
       "      <td>1.0</td>\n",
       "      <td>0.0</td>\n",
       "      <td>...</td>\n",
       "      <td>60604-2021-35</td>\n",
       "      <td>927621.5</td>\n",
       "      <td>33759.6</td>\n",
       "      <td>7254</td>\n",
       "      <td>264.0</td>\n",
       "      <td>2021-09-04T00:00:00.000</td>\n",
       "      <td>35</td>\n",
       "      <td>2021-08-29T00:00:00.000</td>\n",
       "      <td>60604</td>\n",
       "      <td>{'type': 'Point', 'coordinates': [-87.629029, ...</td>\n",
       "    </tr>\n",
       "    <tr>\n",
       "      <th>8</th>\n",
       "      <td>10.0</td>\n",
       "      <td>14912.0</td>\n",
       "      <td>92.0</td>\n",
       "      <td>29.0</td>\n",
       "      <td>38.0</td>\n",
       "      <td>15345.3</td>\n",
       "      <td>127.9</td>\n",
       "      <td>120.0</td>\n",
       "      <td>1.0</td>\n",
       "      <td>0.0</td>\n",
       "      <td>...</td>\n",
       "      <td>60604-2021-36</td>\n",
       "      <td>959974.4</td>\n",
       "      <td>32352.9</td>\n",
       "      <td>7507</td>\n",
       "      <td>253.0</td>\n",
       "      <td>2021-09-11T00:00:00.000</td>\n",
       "      <td>36</td>\n",
       "      <td>2021-09-05T00:00:00.000</td>\n",
       "      <td>60604</td>\n",
       "      <td>{'type': 'Point', 'coordinates': [-87.629029, ...</td>\n",
       "    </tr>\n",
       "    <tr>\n",
       "      <th>9</th>\n",
       "      <td>10.0</td>\n",
       "      <td>14912.0</td>\n",
       "      <td>92.0</td>\n",
       "      <td>29.0</td>\n",
       "      <td>38.0</td>\n",
       "      <td>15345.3</td>\n",
       "      <td>0.0</td>\n",
       "      <td>120.0</td>\n",
       "      <td>0.0</td>\n",
       "      <td>0.0</td>\n",
       "      <td>...</td>\n",
       "      <td>60604-2021-37</td>\n",
       "      <td>996803.1</td>\n",
       "      <td>36828.6</td>\n",
       "      <td>7795</td>\n",
       "      <td>288.0</td>\n",
       "      <td>2021-09-18T00:00:00.000</td>\n",
       "      <td>37</td>\n",
       "      <td>2021-09-12T00:00:00.000</td>\n",
       "      <td>60604</td>\n",
       "      <td>{'type': 'Point', 'coordinates': [-87.629029, ...</td>\n",
       "    </tr>\n",
       "  </tbody>\n",
       "</table>\n",
       "<p>10 rows × 26 columns</p>\n",
       "</div>"
      ],
      "text/plain": [
       "   :@computed_region_43wa_7qmu  :@computed_region_6mkv_f3dw  \\\n",
       "0                         36.0                      14309.0   \n",
       "1                         36.0                      14309.0   \n",
       "2                         36.0                      14309.0   \n",
       "3                         10.0                      14913.0   \n",
       "4                         36.0                      14914.0   \n",
       "5                         10.0                      14912.0   \n",
       "6                         10.0                      14912.0   \n",
       "7                         10.0                      14912.0   \n",
       "8                         10.0                      14912.0   \n",
       "9                         10.0                      14912.0   \n",
       "\n",
       "   :@computed_region_bdys_3d7i  :@computed_region_rpca_8um6  \\\n",
       "0                        580.0                         42.0   \n",
       "1                        580.0                         42.0   \n",
       "2                        580.0                         42.0   \n",
       "3                        368.0                         35.0   \n",
       "4                         92.0                         46.0   \n",
       "5                         92.0                         29.0   \n",
       "6                         92.0                         29.0   \n",
       "7                         92.0                         29.0   \n",
       "8                         92.0                         29.0   \n",
       "9                         92.0                         29.0   \n",
       "\n",
       "   :@computed_region_vrxf_vc4k  case_rate_cumulative  case_rate_weekly  \\\n",
       "0                         38.0                6773.4             197.6   \n",
       "1                         38.0                7822.8             136.3   \n",
       "2                         38.0                8068.1             129.5   \n",
       "3                         38.0                6192.1              65.4   \n",
       "4                         38.0                2128.3              32.2   \n",
       "5                         38.0               14961.6             383.6   \n",
       "6                         38.0               15089.5             127.9   \n",
       "7                         38.0               15217.4             127.9   \n",
       "8                         38.0               15345.3             127.9   \n",
       "9                         38.0               15345.3               0.0   \n",
       "\n",
       "   cases_cumulative  cases_weekly  death_rate_cumulative  \\\n",
       "0             994.0          29.0                   75.0   \n",
       "1            1148.0          20.0                   81.8   \n",
       "2            1184.0          19.0                   81.8   \n",
       "3            1704.0          18.0                   40.0   \n",
       "4              66.0           1.0                   32.2   \n",
       "5             117.0           3.0                    0.0   \n",
       "6             118.0           1.0                    0.0   \n",
       "7             119.0           1.0                    0.0   \n",
       "8             120.0           1.0                    0.0   \n",
       "9             120.0           0.0                    0.0   \n",
       "\n",
       "                         ...                                 row_id  \\\n",
       "0                        ...                          60601-2021-12   \n",
       "1                        ...                          60601-2021-31   \n",
       "2                        ...                          60601-2021-33   \n",
       "3                        ...                           60605-2021-9   \n",
       "4                        ...                          60606-2020-37   \n",
       "5                        ...                          60604-2021-33   \n",
       "6                        ...                          60604-2021-34   \n",
       "7                        ...                          60604-2021-35   \n",
       "8                        ...                          60604-2021-36   \n",
       "9                        ...                          60604-2021-37   \n",
       "\n",
       "   test_rate_cumulative  test_rate_weekly  tests_cumulative  tests_weekly  \\\n",
       "0              156967.6            4197.6             23035         616.0   \n",
       "1              234316.9            5267.5             34386         773.0   \n",
       "2              248429.3            8327.1             36457        1222.0   \n",
       "3              131098.5            3637.5             36077        1001.0   \n",
       "4               76878.4            4127.7              2384         128.0   \n",
       "5              854987.2           32736.6              6686         256.0   \n",
       "6              893861.9           38874.7              6990         304.0   \n",
       "7              927621.5           33759.6              7254         264.0   \n",
       "8              959974.4           32352.9              7507         253.0   \n",
       "9              996803.1           36828.6              7795         288.0   \n",
       "\n",
       "                  week_end week_number               week_start  zip_code  \\\n",
       "0  2021-03-27T00:00:00.000          12  2021-03-21T00:00:00.000     60601   \n",
       "1  2021-08-07T00:00:00.000          31  2021-08-01T00:00:00.000     60601   \n",
       "2  2021-08-21T00:00:00.000          33  2021-08-15T00:00:00.000     60601   \n",
       "3  2021-03-06T00:00:00.000           9  2021-02-28T00:00:00.000     60605   \n",
       "4  2020-09-12T00:00:00.000          37  2020-09-06T00:00:00.000     60606   \n",
       "5  2021-08-21T00:00:00.000          33  2021-08-15T00:00:00.000     60604   \n",
       "6  2021-08-28T00:00:00.000          34  2021-08-22T00:00:00.000     60604   \n",
       "7  2021-09-04T00:00:00.000          35  2021-08-29T00:00:00.000     60604   \n",
       "8  2021-09-11T00:00:00.000          36  2021-09-05T00:00:00.000     60604   \n",
       "9  2021-09-18T00:00:00.000          37  2021-09-12T00:00:00.000     60604   \n",
       "\n",
       "                                   zip_code_location  \n",
       "0  {'type': 'Point', 'coordinates': [-87.622844, ...  \n",
       "1  {'type': 'Point', 'coordinates': [-87.622844, ...  \n",
       "2  {'type': 'Point', 'coordinates': [-87.622844, ...  \n",
       "3  {'type': 'Point', 'coordinates': [-87.623449, ...  \n",
       "4  {'type': 'Point', 'coordinates': [-87.63676, 4...  \n",
       "5  {'type': 'Point', 'coordinates': [-87.629029, ...  \n",
       "6  {'type': 'Point', 'coordinates': [-87.629029, ...  \n",
       "7  {'type': 'Point', 'coordinates': [-87.629029, ...  \n",
       "8  {'type': 'Point', 'coordinates': [-87.629029, ...  \n",
       "9  {'type': 'Point', 'coordinates': [-87.629029, ...  \n",
       "\n",
       "[10 rows x 26 columns]"
      ]
     },
     "execution_count": 5,
     "metadata": {},
     "output_type": "execute_result"
    }
   ],
   "source": [
    "import pandas as pd\n",
    "import numpy as np\n",
    "rawCOVID = pd.read_json('https://data.cityofchicago.org/resource/yhhz-zm2v.json?$limit=100000') #Import data directly from data portal\n",
    "rawCOVID.head(10)"
   ]
  },
  {
   "cell_type": "markdown",
   "metadata": {},
   "source": [
    "We'll list the 26 column names"
   ]
  },
  {
   "cell_type": "code",
   "execution_count": 6,
   "metadata": {},
   "outputs": [
    {
     "data": {
      "text/plain": [
       "[':@computed_region_43wa_7qmu',\n",
       " ':@computed_region_6mkv_f3dw',\n",
       " ':@computed_region_bdys_3d7i',\n",
       " ':@computed_region_rpca_8um6',\n",
       " ':@computed_region_vrxf_vc4k',\n",
       " 'case_rate_cumulative',\n",
       " 'case_rate_weekly',\n",
       " 'cases_cumulative',\n",
       " 'cases_weekly',\n",
       " 'death_rate_cumulative',\n",
       " 'death_rate_weekly',\n",
       " 'deaths_cumulative',\n",
       " 'deaths_weekly',\n",
       " 'percent_tested_positive_cumulative',\n",
       " 'percent_tested_positive_weekly',\n",
       " 'population',\n",
       " 'row_id',\n",
       " 'test_rate_cumulative',\n",
       " 'test_rate_weekly',\n",
       " 'tests_cumulative',\n",
       " 'tests_weekly',\n",
       " 'week_end',\n",
       " 'week_number',\n",
       " 'week_start',\n",
       " 'zip_code',\n",
       " 'zip_code_location']"
      ]
     },
     "execution_count": 6,
     "metadata": {},
     "output_type": "execute_result"
    }
   ],
   "source": [
    "list(rawCOVID.columns)"
   ]
  },
  {
   "cell_type": "markdown",
   "metadata": {},
   "source": [
    "Q1. .Does case matter when referring to a column name?\n",
    "<hr>\n",
    "<h3> STEP TWO </h3>\n",
    "Let's streamline the data to just 4 columns, drop rows with missing data,  simplify the column names, and then display the first 20 rows."
   ]
  },
  {
   "cell_type": "code",
   "execution_count": 7,
   "metadata": {},
   "outputs": [
    {
     "data": {
      "text/html": [
       "<div>\n",
       "<style scoped>\n",
       "    .dataframe tbody tr th:only-of-type {\n",
       "        vertical-align: middle;\n",
       "    }\n",
       "\n",
       "    .dataframe tbody tr th {\n",
       "        vertical-align: top;\n",
       "    }\n",
       "\n",
       "    .dataframe thead th {\n",
       "        text-align: right;\n",
       "    }\n",
       "</style>\n",
       "<table border=\"1\" class=\"dataframe\">\n",
       "  <thead>\n",
       "    <tr style=\"text-align: right;\">\n",
       "      <th></th>\n",
       "      <th>deaths</th>\n",
       "      <th>population</th>\n",
       "      <th>tests</th>\n",
       "      <th>zip</th>\n",
       "    </tr>\n",
       "  </thead>\n",
       "  <tbody>\n",
       "    <tr>\n",
       "      <th>0</th>\n",
       "      <td>11</td>\n",
       "      <td>14675</td>\n",
       "      <td>23035</td>\n",
       "      <td>60601</td>\n",
       "    </tr>\n",
       "    <tr>\n",
       "      <th>1</th>\n",
       "      <td>12</td>\n",
       "      <td>14675</td>\n",
       "      <td>34386</td>\n",
       "      <td>60601</td>\n",
       "    </tr>\n",
       "    <tr>\n",
       "      <th>2</th>\n",
       "      <td>12</td>\n",
       "      <td>14675</td>\n",
       "      <td>36457</td>\n",
       "      <td>60601</td>\n",
       "    </tr>\n",
       "    <tr>\n",
       "      <th>3</th>\n",
       "      <td>11</td>\n",
       "      <td>27519</td>\n",
       "      <td>36077</td>\n",
       "      <td>60605</td>\n",
       "    </tr>\n",
       "    <tr>\n",
       "      <th>4</th>\n",
       "      <td>1</td>\n",
       "      <td>3101</td>\n",
       "      <td>2384</td>\n",
       "      <td>60606</td>\n",
       "    </tr>\n",
       "    <tr>\n",
       "      <th>5</th>\n",
       "      <td>0</td>\n",
       "      <td>782</td>\n",
       "      <td>6686</td>\n",
       "      <td>60604</td>\n",
       "    </tr>\n",
       "    <tr>\n",
       "      <th>6</th>\n",
       "      <td>0</td>\n",
       "      <td>782</td>\n",
       "      <td>6990</td>\n",
       "      <td>60604</td>\n",
       "    </tr>\n",
       "    <tr>\n",
       "      <th>7</th>\n",
       "      <td>0</td>\n",
       "      <td>782</td>\n",
       "      <td>7254</td>\n",
       "      <td>60604</td>\n",
       "    </tr>\n",
       "    <tr>\n",
       "      <th>8</th>\n",
       "      <td>0</td>\n",
       "      <td>782</td>\n",
       "      <td>7507</td>\n",
       "      <td>60604</td>\n",
       "    </tr>\n",
       "    <tr>\n",
       "      <th>9</th>\n",
       "      <td>0</td>\n",
       "      <td>782</td>\n",
       "      <td>7795</td>\n",
       "      <td>60604</td>\n",
       "    </tr>\n",
       "    <tr>\n",
       "      <th>10</th>\n",
       "      <td>0</td>\n",
       "      <td>782</td>\n",
       "      <td>7954</td>\n",
       "      <td>60604</td>\n",
       "    </tr>\n",
       "    <tr>\n",
       "      <th>11</th>\n",
       "      <td>1</td>\n",
       "      <td>3101</td>\n",
       "      <td>4655</td>\n",
       "      <td>60606</td>\n",
       "    </tr>\n",
       "    <tr>\n",
       "      <th>12</th>\n",
       "      <td>4</td>\n",
       "      <td>27519</td>\n",
       "      <td>12619</td>\n",
       "      <td>60605</td>\n",
       "    </tr>\n",
       "    <tr>\n",
       "      <th>13</th>\n",
       "      <td>1</td>\n",
       "      <td>3101</td>\n",
       "      <td>5092</td>\n",
       "      <td>60606</td>\n",
       "    </tr>\n",
       "    <tr>\n",
       "      <th>14</th>\n",
       "      <td>3</td>\n",
       "      <td>3101</td>\n",
       "      <td>7107</td>\n",
       "      <td>60606</td>\n",
       "    </tr>\n",
       "    <tr>\n",
       "      <th>15</th>\n",
       "      <td>3</td>\n",
       "      <td>3101</td>\n",
       "      <td>7575</td>\n",
       "      <td>60606</td>\n",
       "    </tr>\n",
       "    <tr>\n",
       "      <th>16</th>\n",
       "      <td>3</td>\n",
       "      <td>3101</td>\n",
       "      <td>7804</td>\n",
       "      <td>60606</td>\n",
       "    </tr>\n",
       "    <tr>\n",
       "      <th>17</th>\n",
       "      <td>3</td>\n",
       "      <td>3101</td>\n",
       "      <td>8480</td>\n",
       "      <td>60606</td>\n",
       "    </tr>\n",
       "    <tr>\n",
       "      <th>18</th>\n",
       "      <td>3</td>\n",
       "      <td>3101</td>\n",
       "      <td>8937</td>\n",
       "      <td>60606</td>\n",
       "    </tr>\n",
       "    <tr>\n",
       "      <th>19</th>\n",
       "      <td>3</td>\n",
       "      <td>3101</td>\n",
       "      <td>9139</td>\n",
       "      <td>60606</td>\n",
       "    </tr>\n",
       "  </tbody>\n",
       "</table>\n",
       "</div>"
      ],
      "text/plain": [
       "    deaths  population  tests    zip\n",
       "0       11       14675  23035  60601\n",
       "1       12       14675  34386  60601\n",
       "2       12       14675  36457  60601\n",
       "3       11       27519  36077  60605\n",
       "4        1        3101   2384  60606\n",
       "5        0         782   6686  60604\n",
       "6        0         782   6990  60604\n",
       "7        0         782   7254  60604\n",
       "8        0         782   7507  60604\n",
       "9        0         782   7795  60604\n",
       "10       0         782   7954  60604\n",
       "11       1        3101   4655  60606\n",
       "12       4       27519  12619  60605\n",
       "13       1        3101   5092  60606\n",
       "14       3        3101   7107  60606\n",
       "15       3        3101   7575  60606\n",
       "16       3        3101   7804  60606\n",
       "17       3        3101   8480  60606\n",
       "18       3        3101   8937  60606\n",
       "19       3        3101   9139  60606"
      ]
     },
     "execution_count": 7,
     "metadata": {},
     "output_type": "execute_result"
    }
   ],
   "source": [
    "COVID=rawCOVID[['deaths_cumulative', \"population\",  'tests_cumulative','zip_code']]\n",
    "COVID.dropna  #drop rows with missing data\n",
    "COVID.columns=[\"deaths\",\"population\",\"tests\",\"zip\"] #simplify the column names\n",
    "COVID.head(20)"
   ]
  },
  {
   "cell_type": "markdown",
   "metadata": {},
   "source": [
    "Q2. Of the zip codes listed, which has the smallest population?\n",
    "<hr>\n",
    "<h3> STEP THREE</h3>\n",
    "Let's check how many rows have data in each column</h3>"
   ]
  },
  {
   "cell_type": "code",
   "execution_count": 8,
   "metadata": {},
   "outputs": [
    {
     "data": {
      "text/plain": [
       "deaths        5040\n",
       "population    5040\n",
       "tests         5040\n",
       "zip           5040\n",
       "dtype: int64"
      ]
     },
     "execution_count": 8,
     "metadata": {},
     "output_type": "execute_result"
    }
   ],
   "source": [
    "COVID.count()"
   ]
  },
  {
   "cell_type": "markdown",
   "metadata": {},
   "source": [
    "Q3.  How many data rows are there in each column?\n",
    "<hr>\n",
    "<h3> STEP FOUR</h3>\n",
    "Let's find out how many times each zip code appears."
   ]
  },
  {
   "cell_type": "code",
   "execution_count": 9,
   "metadata": {},
   "outputs": [
    {
     "data": {
      "text/plain": [
       "60602      84\n",
       "60649      84\n",
       "60622      84\n",
       "60605      84\n",
       "60611      84\n",
       "60613      84\n",
       "60638      84\n",
       "60626      84\n",
       "60641      84\n",
       "60647      84\n",
       "60659      84\n",
       "60657      84\n",
       "60634      84\n",
       "60610      84\n",
       "60614      84\n",
       "60644      84\n",
       "60615      84\n",
       "60625      84\n",
       "60651      84\n",
       "60604      84\n",
       "60827      84\n",
       "60619      84\n",
       "Unknown    84\n",
       "60656      84\n",
       "60628      84\n",
       "60630      84\n",
       "60617      84\n",
       "60612      84\n",
       "60637      84\n",
       "60655      84\n",
       "60646      84\n",
       "60707      84\n",
       "60653      84\n",
       "60640      84\n",
       "60661      84\n",
       "60601      84\n",
       "60639      84\n",
       "60603      84\n",
       "60666      84\n",
       "60607      84\n",
       "60654      84\n",
       "60623      84\n",
       "60609      84\n",
       "60624      84\n",
       "60620      84\n",
       "60608      84\n",
       "60629      84\n",
       "60621      84\n",
       "60606      84\n",
       "60645      84\n",
       "60632      84\n",
       "60633      84\n",
       "60636      84\n",
       "60631      84\n",
       "60616      84\n",
       "60642      84\n",
       "60660      84\n",
       "60643      84\n",
       "60652      84\n",
       "60618      84\n",
       "Name: zip, dtype: int64"
      ]
     },
     "execution_count": 9,
     "metadata": {},
     "output_type": "execute_result"
    }
   ],
   "source": [
    "COVID[\"zip\"].value_counts()"
   ]
  },
  {
   "cell_type": "markdown",
   "metadata": {},
   "source": [
    "<h2>STEP FIVE </h2>\n",
    "Let's make a copy of the COVID dataframe and display the first 5 rows."
   ]
  },
  {
   "cell_type": "code",
   "execution_count": 11,
   "metadata": {},
   "outputs": [
    {
     "data": {
      "text/html": [
       "<div>\n",
       "<style scoped>\n",
       "    .dataframe tbody tr th:only-of-type {\n",
       "        vertical-align: middle;\n",
       "    }\n",
       "\n",
       "    .dataframe tbody tr th {\n",
       "        vertical-align: top;\n",
       "    }\n",
       "\n",
       "    .dataframe thead th {\n",
       "        text-align: right;\n",
       "    }\n",
       "</style>\n",
       "<table border=\"1\" class=\"dataframe\">\n",
       "  <thead>\n",
       "    <tr style=\"text-align: right;\">\n",
       "      <th></th>\n",
       "      <th>deaths</th>\n",
       "      <th>population</th>\n",
       "      <th>tests</th>\n",
       "      <th>zip</th>\n",
       "    </tr>\n",
       "  </thead>\n",
       "  <tbody>\n",
       "    <tr>\n",
       "      <th>0</th>\n",
       "      <td>11</td>\n",
       "      <td>14675</td>\n",
       "      <td>23035</td>\n",
       "      <td>60601</td>\n",
       "    </tr>\n",
       "    <tr>\n",
       "      <th>1</th>\n",
       "      <td>12</td>\n",
       "      <td>14675</td>\n",
       "      <td>34386</td>\n",
       "      <td>60601</td>\n",
       "    </tr>\n",
       "    <tr>\n",
       "      <th>2</th>\n",
       "      <td>12</td>\n",
       "      <td>14675</td>\n",
       "      <td>36457</td>\n",
       "      <td>60601</td>\n",
       "    </tr>\n",
       "    <tr>\n",
       "      <th>3</th>\n",
       "      <td>11</td>\n",
       "      <td>27519</td>\n",
       "      <td>36077</td>\n",
       "      <td>60605</td>\n",
       "    </tr>\n",
       "    <tr>\n",
       "      <th>4</th>\n",
       "      <td>1</td>\n",
       "      <td>3101</td>\n",
       "      <td>2384</td>\n",
       "      <td>60606</td>\n",
       "    </tr>\n",
       "  </tbody>\n",
       "</table>\n",
       "</div>"
      ],
      "text/plain": [
       "   deaths  population  tests    zip\n",
       "0      11       14675  23035  60601\n",
       "1      12       14675  34386  60601\n",
       "2      12       14675  36457  60601\n",
       "3      11       27519  36077  60605\n",
       "4       1        3101   2384  60606"
      ]
     },
     "execution_count": 11,
     "metadata": {},
     "output_type": "execute_result"
    }
   ],
   "source": [
    "df1=COVID\n",
    "df1.head(5)"
   ]
  },
  {
   "cell_type": "markdown",
   "metadata": {},
   "source": [
    "<h2> STEP SIX </h2> \n",
    "\n",
    "Filter data by a specific zip code, for example, '60611'"
   ]
  },
  {
   "cell_type": "code",
   "execution_count": 16,
   "metadata": {},
   "outputs": [
    {
     "data": {
      "text/html": [
       "<div>\n",
       "<style scoped>\n",
       "    .dataframe tbody tr th:only-of-type {\n",
       "        vertical-align: middle;\n",
       "    }\n",
       "\n",
       "    .dataframe tbody tr th {\n",
       "        vertical-align: top;\n",
       "    }\n",
       "\n",
       "    .dataframe thead th {\n",
       "        text-align: right;\n",
       "    }\n",
       "</style>\n",
       "<table border=\"1\" class=\"dataframe\">\n",
       "  <thead>\n",
       "    <tr style=\"text-align: right;\">\n",
       "      <th></th>\n",
       "      <th>deaths</th>\n",
       "      <th>population</th>\n",
       "      <th>tests</th>\n",
       "      <th>zip</th>\n",
       "    </tr>\n",
       "  </thead>\n",
       "  <tbody>\n",
       "    <tr>\n",
       "      <th>81</th>\n",
       "      <td>3</td>\n",
       "      <td>32426</td>\n",
       "      <td>7196</td>\n",
       "      <td>60611</td>\n",
       "    </tr>\n",
       "    <tr>\n",
       "      <th>82</th>\n",
       "      <td>3</td>\n",
       "      <td>32426</td>\n",
       "      <td>7930</td>\n",
       "      <td>60611</td>\n",
       "    </tr>\n",
       "    <tr>\n",
       "      <th>83</th>\n",
       "      <td>4</td>\n",
       "      <td>32426</td>\n",
       "      <td>15110</td>\n",
       "      <td>60611</td>\n",
       "    </tr>\n",
       "    <tr>\n",
       "      <th>84</th>\n",
       "      <td>4</td>\n",
       "      <td>32426</td>\n",
       "      <td>16286</td>\n",
       "      <td>60611</td>\n",
       "    </tr>\n",
       "    <tr>\n",
       "      <th>85</th>\n",
       "      <td>5</td>\n",
       "      <td>32426</td>\n",
       "      <td>25846</td>\n",
       "      <td>60611</td>\n",
       "    </tr>\n",
       "  </tbody>\n",
       "</table>\n",
       "</div>"
      ],
      "text/plain": [
       "    deaths  population  tests    zip\n",
       "81       3       32426   7196  60611\n",
       "82       3       32426   7930  60611\n",
       "83       4       32426  15110  60611\n",
       "84       4       32426  16286  60611\n",
       "85       5       32426  25846  60611"
      ]
     },
     "execution_count": 16,
     "metadata": {},
     "output_type": "execute_result"
    }
   ],
   "source": [
    "df2=df1[df1['zip']=='60611']\n",
    "df2.head()"
   ]
  },
  {
   "cell_type": "markdown",
   "metadata": {},
   "source": [
    "<h2> STEP SEVEN </h2>\n",
    "Let's find the largest value in the 'tests' column for zip '60611'."
   ]
  },
  {
   "cell_type": "code",
   "execution_count": 19,
   "metadata": {},
   "outputs": [
    {
     "data": {
      "text/plain": [
       "81747"
      ]
     },
     "execution_count": 19,
     "metadata": {},
     "output_type": "execute_result"
    }
   ],
   "source": [
    "df2 = COVID[df1[\"zip\"]=='60611'] #get just rows with zip 60611\n",
    "numtested=df2[\"tests\"].max() #get the largest number for tests\n",
    "numtested"
   ]
  },
  {
   "cell_type": "markdown",
   "metadata": {},
   "source": [
    "Question:  How can we find how many deaths due to COVID have occurred in zip '60623'?  (Create a new dataframe for 60623 called temp)"
   ]
  },
  {
   "cell_type": "code",
   "execution_count": 20,
   "metadata": {},
   "outputs": [
    {
     "data": {
      "text/plain": [
       "276"
      ]
     },
     "execution_count": 20,
     "metadata": {},
     "output_type": "execute_result"
    }
   ],
   "source": [
    "temp = COVID[df1[\"zip\"]=='60623'] #get just rows with zip 60611\n",
    "numdeaths=temp[\"deaths\"].max() #get the largest number for tests\n",
    "numdeaths"
   ]
  },
  {
   "cell_type": "markdown",
   "metadata": {},
   "source": [
    "Question: How can we get the population in 60623?"
   ]
  },
  {
   "cell_type": "code",
   "execution_count": 21,
   "metadata": {},
   "outputs": [
    {
     "data": {
      "text/plain": [
       "85979"
      ]
     },
     "execution_count": 21,
     "metadata": {},
     "output_type": "execute_result"
    }
   ],
   "source": [
    "df = COVID[COVID[\"zip\"]=='60623'] #get just rows with zip 60611\n",
    "population=df[\"population\"].max() #get the largest number for tests\n",
    "population"
   ]
  },
  {
   "cell_type": "markdown",
   "metadata": {},
   "source": [
    "<h3> STEP EIGHT</h3>\n",
    "We can instruct the computer to give us the number COVID tests for any Chicago zipcode. </h3>"
   ]
  },
  {
   "cell_type": "code",
   "execution_count": 22,
   "metadata": {},
   "outputs": [],
   "source": [
    "def MyCOVID(COVID,zip):\n",
    "    alreadychecked=0  #eliminate duplication of information\n",
    "    for z in COVID.index:  #go through all the index values\n",
    "        if COVID.loc[z,\"zip\"]==zip and alreadychecked==0:    #found the zip we requested (first-time)\n",
    "            alreadychecked=1  #we will only do this once\n",
    "            df=COVID[COVID[\"zip\"]==zip]\n",
    "            numtested=df[\"tests\"].max()\n",
    "            print(\"Zip code: \", zip)  #print zipcode\n",
    "            print(\"number tested is \", numtested) #print number tested\n",
    "    return (\"Enter a different zip code if you wish.\")"
   ]
  },
  {
   "cell_type": "markdown",
   "metadata": {},
   "source": [
    "Q5. Test out the function on zip code '60610'"
   ]
  },
  {
   "cell_type": "code",
   "execution_count": 23,
   "metadata": {},
   "outputs": [
    {
     "name": "stdout",
     "output_type": "stream",
     "text": [
      "Zip code:  60610\n",
      "number tested is  105952\n"
     ]
    },
    {
     "data": {
      "text/plain": [
       "'Enter a different zip code if you wish.'"
      ]
     },
     "execution_count": 23,
     "metadata": {},
     "output_type": "execute_result"
    }
   ],
   "source": [
    "MyCOVID(COVID,'60610')"
   ]
  },
  {
   "cell_type": "markdown",
   "metadata": {},
   "source": [
    "<h3> Assignment </h3>"
   ]
  },
  {
   "cell_type": "markdown",
   "metadata": {},
   "source": [
    "Q1)  Define a function myCOVID2() which outputs for each given zip code the population, number tested, and number of deaths. "
   ]
  },
  {
   "cell_type": "code",
   "execution_count": 24,
   "metadata": {},
   "outputs": [],
   "source": [
    "#ans to Q1\n",
    "def MyCOVID2(COVID,zip):\n",
    "    alreadychecked=0  #eliminate duplication of information\n",
    "    for z in COVID.index:  #go through all the index values\n",
    "        if COVID.loc[z,\"zip\"]==zip and alreadychecked==0:    #found the zip we requested (first-time)\n",
    "            alreadychecked=1  #we will only do this once\n",
    "            df=COVID[COVID[\"zip\"]==zip]\n",
    "            population=df[\"population\"].max()\n",
    "            numtested=df[\"tests\"].max()\n",
    "            deaths=df[\"deaths\"].max()\n",
    "            print(\"Zip code: \", zip)  #print zipcode\n",
    "            print(\"population is \", population) #print population\n",
    "            print(\"number tested is \", numtested) #print number tested\n",
    "            print(\"number deaths is \", deaths) #print number deaths\n",
    "    return (\"Enter a different zip code if you wish.\")"
   ]
  },
  {
   "cell_type": "markdown",
   "metadata": {},
   "source": [
    "Q2)  Use your function myCOVID2() to determine the COVID data for each of the following Chicago landmarks:\n",
    "\n",
    "a) North Park University (zip  '60625')\n"
   ]
  },
  {
   "cell_type": "code",
   "execution_count": 25,
   "metadata": {},
   "outputs": [
    {
     "name": "stdout",
     "output_type": "stream",
     "text": [
      "Zip code:  60625\n",
      "population is  79243\n",
      "number tested is  170462\n",
      "number deaths is  202\n"
     ]
    },
    {
     "data": {
      "text/plain": [
       "'Enter a different zip code if you wish.'"
      ]
     },
     "execution_count": 25,
     "metadata": {},
     "output_type": "execute_result"
    }
   ],
   "source": [
    "#ans to 2a)\n",
    "MyCOVID2(COVID,'60625')"
   ]
  },
  {
   "cell_type": "markdown",
   "metadata": {},
   "source": [
    "b) University of Chicago and Wheaton in Chicago (zip='60637')"
   ]
  },
  {
   "cell_type": "code",
   "execution_count": 26,
   "metadata": {},
   "outputs": [
    {
     "name": "stdout",
     "output_type": "stream",
     "text": [
      "Zip code:  60637\n",
      "population is  47454\n",
      "number tested is  178861\n",
      "number deaths is  71\n"
     ]
    },
    {
     "data": {
      "text/plain": [
       "'Enter a different zip code if you wish.'"
      ]
     },
     "execution_count": 26,
     "metadata": {},
     "output_type": "execute_result"
    }
   ],
   "source": [
    "MyCOVID2(COVID,'60637')"
   ]
  },
  {
   "cell_type": "markdown",
   "metadata": {},
   "source": [
    "c) Lawndale Community Church (zip='60623')"
   ]
  },
  {
   "cell_type": "code",
   "execution_count": 27,
   "metadata": {},
   "outputs": [
    {
     "name": "stdout",
     "output_type": "stream",
     "text": [
      "Zip code:  60623\n",
      "population is  85979\n",
      "number tested is  138862\n",
      "number deaths is  276\n"
     ]
    },
    {
     "data": {
      "text/plain": [
       "'Enter a different zip code if you wish.'"
      ]
     },
     "execution_count": 27,
     "metadata": {},
     "output_type": "execute_result"
    }
   ],
   "source": [
    "MyCOVID2(COVID,'60623')"
   ]
  },
  {
   "cell_type": "markdown",
   "metadata": {},
   "source": [
    "Q3) Why is COVID disproportionately impacting black and brown communities?"
   ]
  },
  {
   "cell_type": "markdown",
   "metadata": {},
   "source": [
    "ans to Q3:\n",
    "\n",
    "Disproportionately high percentage of front line workers are black and brown, including those offering COVID-19 care.  Access to good health care is more limited in disadvantaged communities, and there is discrimination  in healthcare in other communities."
   ]
  },
  {
   "cell_type": "code",
   "execution_count": null,
   "metadata": {},
   "outputs": [],
   "source": []
  }
 ],
 "metadata": {
  "kernelspec": {
   "display_name": "Python 3",
   "language": "python",
   "name": "python3"
  },
  "language_info": {
   "codemirror_mode": {
    "name": "ipython",
    "version": 3
   },
   "file_extension": ".py",
   "mimetype": "text/x-python",
   "name": "python",
   "nbconvert_exporter": "python",
   "pygments_lexer": "ipython3",
   "version": "3.6.4"
  }
 },
 "nbformat": 4,
 "nbformat_minor": 2
}
