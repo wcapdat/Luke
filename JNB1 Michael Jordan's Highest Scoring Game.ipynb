{
 "cells": [
  {
   "cell_type": "markdown",
   "metadata": {},
   "source": [
    "<h3>Demo 2</h3>\n",
    "<h3>STEP#1</h3>\n",
    "Does anyone remember from the PowerPoint, a variable is like a b $\\_ \\, \\, \\_$.\n",
    "A variable has a  n $\\_ \\,\\, \\_ \\,\\,\\_ $.\n",
    "We can store some i $\\_ \\, \\, \\_ \\, \\, \\_$ such as a number (eg. 3) or a message (eg. 'God is Good!') in a variable.\n",
    "<h3> STEP #2 </h3>\n",
    "Let's give names to two variables:\n",
    "<ul>\n",
    "    <li> <b> feet </b> </li>\n",
    "    <li> <b> inch </b> </li>\n",
    "    </ul>\n",
    "In Michael Jordan's case, the info stored in the variable <b>feet</b> is the number 6 and the info stored in the variable <b>inch</b> is also equal to 6.  For short, we just write <b>feet</b>=6 and <b>inch</b>=6\n",
    "What's your value for the variables <b>feet</b> and <b>inch</b>?\n",
    "<hr>\n",
    "<h3> STEP #3</h3>\n",
    "Who remembers the word for a short computer program?  c$\\_\\,\\, \\_ \\,\\, \\_ \\,\\,$\n",
    "What programming language  are we learning?  Py $\\_\\,\\, \\_ \\,\\, \\_ \\,\\,$n.\n",
    "\n",
    "In the next cell, we give Python code to create a function which converts height in feet and inches to height in just inches. "
   ]
  },
  {
   "cell_type": "code",
   "execution_count": null,
   "metadata": {},
   "outputs": [],
   "source": [
    "def height(feet,inch):\n",
    "    height_in_inches = 12*feet + inch  \n",
    "    return height_in_inches"
   ]
  },
  {
   "cell_type": "markdown",
   "metadata": {},
   "source": [
    "Let's use our function to get Seimone's height in inches (recall that she's  feet=6, inch=0)"
   ]
  },
  {
   "cell_type": "code",
   "execution_count": null,
   "metadata": {},
   "outputs": [],
   "source": [
    "height(6,0)"
   ]
  },
  {
   "cell_type": "markdown",
   "metadata": {},
   "source": [
    "<h3> STEP #4</h3>\n",
    "What do we have to do in the next cell to test our function on 6'6\" Michael Jordan?"
   ]
  },
  {
   "cell_type": "code",
   "execution_count": null,
   "metadata": {},
   "outputs": [],
   "source": [
    "height(  ,  ) # supply the missing input values for height(feet,inches)"
   ]
  },
  {
   "cell_type": "markdown",
   "metadata": {},
   "source": [
    "<h3> STEP #5 (In Groups)</h3> \n",
    "One of the fun parts of programming is that we can try to design a function to do almost anything we want. \n",
    "\n",
    "Mimic the example in Step 3 to define a function called points(fg,ft,tp) which computes the points scored by a basketball player given the input variables \n",
    "<ul>\n",
    "    <li> fg= number of 2 point field goals made</li>\n",
    "    <li> ft=number of free throws made </li>\n",
    "    <li> tp=number of three point shots made </li>\n",
    "    \n",
    "Use a variable called pts to store the answer. (If you get stuck, ask for help)"
   ]
  },
  {
   "cell_type": "code",
   "execution_count": null,
   "metadata": {},
   "outputs": [],
   "source": [
    "\n"
   ]
  },
  {
   "cell_type": "markdown",
   "metadata": {},
   "source": [
    "<h3> STEP #6 (In Groups)</h3>\n",
    "In his heighest scoring game, Michael Jordan made 21 two-point field goals, 21 free throws and 2 three point shots.\n",
    "Check that your function in STEP 5 gives the correct value of 69 for his point total."
   ]
  },
  {
   "cell_type": "code",
   "execution_count": null,
   "metadata": {},
   "outputs": [],
   "source": [
    "points(  ,  ,  )   #Supply the missing values for points(fg,ft,tp)"
   ]
  }
 ],
 "metadata": {
  "kernelspec": {
   "display_name": "Python 3",
   "language": "python",
   "name": "python3"
  },
  "language_info": {
   "codemirror_mode": {
    "name": "ipython",
    "version": 3
   },
   "file_extension": ".py",
   "mimetype": "text/x-python",
   "name": "python",
   "nbconvert_exporter": "python",
   "pygments_lexer": "ipython3",
   "version": "3.6.4"
  }
 },
 "nbformat": 4,
 "nbformat_minor": 2
}
