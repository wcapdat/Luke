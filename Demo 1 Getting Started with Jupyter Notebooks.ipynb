{
 "cells": [
  {
   "cell_type": "markdown",
   "metadata": {},
   "source": [
    "Hopefully you had success installing Jupyter Notebooks using the Anaconda toolkit.\n",
    "\n",
    "\n",
    "Python's Data Analytics (pandas or pd for short) is a \"library\" of computer codes which can be used to perform a wide variety of tasks. Pandas is one of the most important tools used by Data Scientists today."
   ]
  },
  {
   "cell_type": "markdown",
   "metadata": {},
   "source": [
    "<h3>STEP ONE</h3>\n",
    "Let's begin by importing pandas to our notebook. Press shift+enter to execute the following cell."
   ]
  },
  {
   "cell_type": "code",
   "execution_count": null,
   "metadata": {},
   "outputs": [],
   "source": [
    "import pandas as pd"
   ]
  },
  {
   "cell_type": "markdown",
   "metadata": {},
   "source": [
    "<h3>STEP TWO</h3>\n",
    "Make sure you have the file \"bears.xlsx\" in the same directory as this JNB. (You can check by clicking on File, Open)"
   ]
  },
  {
   "cell_type": "markdown",
   "metadata": {},
   "source": [
    "<h3>STEP THREE</h3>\n",
    "Now we can use the read_excel() function in the pandas library to read  the data into what is called a dataframe.  We will name our dataframe bear_info. Press shift+enter to execute the next cell.  (The # symbol preceeds a comment explaining a line or block of code)"
   ]
  },
  {
   "cell_type": "code",
   "execution_count": null,
   "metadata": {},
   "outputs": [],
   "source": [
    "bear_info=pd.read_excel(\"bears.xlsx\")  #read in the data\n",
    "bear_info  #display the data"
   ]
  },
  {
   "cell_type": "markdown",
   "metadata": {},
   "source": [
    "Q. What is the weight given for a Giant Panda? (Click the + sign to create a new cell.  Then click on the new cell and change the type of the cell from \"Code\" to \"Markdown\".  Then type your answer. \"A Giant Panda weighs ...\"  Shift+enter will register your answer. "
   ]
  }
 ],
 "metadata": {
  "kernelspec": {
   "display_name": "Python 3",
   "language": "python",
   "name": "python3"
  },
  "language_info": {
   "codemirror_mode": {
    "name": "ipython",
    "version": 3
   },
   "file_extension": ".py",
   "mimetype": "text/x-python",
   "name": "python",
   "nbconvert_exporter": "python",
   "pygments_lexer": "ipython3",
   "version": "3.6.4"
  }
 },
 "nbformat": 4,
 "nbformat_minor": 2
}
